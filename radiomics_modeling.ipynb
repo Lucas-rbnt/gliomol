{
 "cells": [
  {
   "cell_type": "code",
   "execution_count": null,
   "id": "3eb3c7f6",
   "metadata": {},
   "outputs": [],
   "source": [
    "# import packages\n",
    "import pandas as pd\n",
    "from collections import defaultdict\n",
    "import tqdm\n",
    "import seaborn as sns\n",
    "import matplotlib.pyplot as plt\n",
    "from sklearn.feature_selection import SelectKBest, f_classif\n",
    "import numpy as np\n",
    "from sklearn.preprocessing import PolynomialFeatures, StandardScaler\n",
    "from sklearn.ensemble import RandomForestClassifier,AdaBoostClassifier\n",
    "from sklearn.linear_model import LogisticRegression\n",
    "from sklearn.svm import SVC\n",
    "from sklearn.pipeline import make_pipeline\n",
    "from sklearn.metrics import balanced_accuracy_score, accuracy_score, roc_auc_score, f1_score, recall_score, precision_score\n",
    "from sklearn.model_selection import RepeatedStratifiedKFold"
   ]
  },
  {
   "cell_type": "code",
   "execution_count": null,
   "id": "414c121a",
   "metadata": {},
   "outputs": [],
   "source": [
    "seed = 2024\n",
    "dataframe = pd.read_csv('radiomics.csv')"
   ]
  },
  {
   "cell_type": "code",
   "execution_count": null,
   "id": "95554181",
   "metadata": {},
   "outputs": [],
   "source": [
    "X = dataframe.drop(columns=[\"id\", 'label'])\n",
    "y = dataframe['label']"
   ]
  },
  {
   "cell_type": "code",
   "execution_count": null,
   "id": "45809958",
   "metadata": {},
   "outputs": [],
   "source": [
    "models = {'RandomForest': RandomForestClassifier(max_depth=10, random_state=seed),\n",
    "'AdaBoost': AdaBoostClassifier(random_state=seed),\n",
    "'L-SVM':make_pipeline(StandardScaler(), SVC(kernel='linear', random_state=seed, probability=True)),\n",
    "'LR': make_pipeline(StandardScaler(), LogisticRegression(random_state=seed))}\n",
    "import random\n",
    "random.seed(seed)\n",
    "np.random.seed(seed)"
   ]
  },
  {
   "cell_type": "code",
   "execution_count": null,
   "id": "b2ca657a",
   "metadata": {},
   "outputs": [],
   "source": [
    "kfold = RepeatedStratifiedKFold(n_splits=3, n_repeats=100, random_state=seed)\n",
    "metrics_all = defaultdict(list)\n",
    "preds_all = defaultdict(lambda: defaultdict(list))\n",
    "importances = []\n",
    "for i, (train_index, test_index) in tqdm.tqdm(enumerate(kfold.split(X, y)), total=(kfold.get_n_splits(X, y))):\n",
    "    x_train, x_test, y_train, y_test = X.values[train_index], X.values[test_index], y.values[train_index], y.values[test_index]\n",
    "    for name, model in models.items():\n",
    "        model.fit(x_train, y_train)\n",
    "        y_pred_pb = model.predict_proba(x_test)\n",
    "        pred_max, pred_argmax = y_pred_pb.max(1), y_pred_pb.argmax(1)\n",
    "        y_pred = np.where(pred_argmax == 1, pred_max, 1 - pred_max)\n",
    "        for i, idx in enumerate(test_index):\n",
    "            preds_all[f'{name}'][idx].append(y_pred[i])\n",
    "        metrics_all[f'{name}/recall'].append(recall_score(y_test, [round(y) for y in y_pred]))\n",
    "        metrics_all[f'{name}/precision'].append(precision_score(y_test, [round(y) for y in y_pred]))\n",
    "        metrics_all[f'{name}/f1'].append(f1_score(y_test, [round(y) for y in y_pred]))\n",
    "        metrics_all[f'{name}/auc'].append(roc_auc_score(y_test, y_pred))\n",
    "        metrics_all[f'{name}/accuracy'].append(accuracy_score(y_test, [round(y) for y in y_pred]))\n",
    "        metrics_all[f'{name}/balanced_accuracy'].append(balanced_accuracy_score(y_test, [round(y) for y in y_pred]))"
   ]
  },
  {
   "cell_type": "code",
   "execution_count": null,
   "id": "2b538a66",
   "metadata": {},
   "outputs": [],
   "source": [
    "for name, scores in metrics_all.items():\n",
    "    print(f'{name : <40} \\t {np.mean(scores):.2f} +/- {np.std(scores):.2f}')"
   ]
  },
  {
   "cell_type": "code",
   "execution_count": null,
   "id": "442caee2",
   "metadata": {},
   "outputs": [],
   "source": [
    "features = defaultdict(int)\n",
    "k=10\n",
    "kfold = RepeatedStratifiedKFold(n_splits=3, n_repeats=100, random_state=seed)\n",
    "metrics_Fscore = defaultdict(list)\n",
    "preds_Fscore = defaultdict(lambda: defaultdict(list))\n",
    "for i, (train_index, test_index) in tqdm.tqdm(enumerate(kfold.split(X, y)), total=(kfold.get_n_splits(X, y))):\n",
    "    x_train, x_test, y_train, y_test = X.values[train_index], X.values[test_index], y.values[train_index], y.values[test_index]\n",
    "    s = SelectKBest(f_classif, k=k)\n",
    "    x_train_reduced = s.fit_transform(x_train, y_train)\n",
    "    x_test_reduced = s.transform(x_test)\n",
    "    ft = X.columns[np.flip(s.scores_.argsort())[:k]]\n",
    "    for f in ft:\n",
    "        features[f] += 1\n",
    "    for name, model in models.items():\n",
    "        model.fit(x_train_reduced, y_train)\n",
    "        y_pred_pb = model.predict_proba(x_test_reduced)\n",
    "        pred_max, pred_argmax = y_pred_pb.max(1), y_pred_pb.argmax(1)\n",
    "        y_pred = np.where(pred_argmax == 1, pred_max, 1 - pred_max)\n",
    "        for i, idx in enumerate(test_index):\n",
    "            preds_Fscore[f'{name}'][idx].append(y_pred[i])\n",
    "        metrics_Fscore[f'{name}/recall'].append(recall_score(y_test, [round(y) for y in y_pred]))\n",
    "        metrics_Fscore[f'{name}/precision'].append(precision_score(y_test, [round(y) for y in y_pred]))\n",
    "        metrics_Fscore[f'{name}/f1'].append(f1_score(y_test, [round(y) for y in y_pred]))\n",
    "        metrics_Fscore[f'{name}/auc'].append(roc_auc_score(y_test, y_pred))\n",
    "        metrics_Fscore[f'{name}/accuracy'].append(accuracy_score(y_test, [round(y) for y in y_pred]))\n",
    "        metrics_Fscore[f'{name}/balanced_accuracy'].append(balanced_accuracy_score(y_test, [round(y) for y in y_pred]))"
   ]
  },
  {
   "cell_type": "code",
   "execution_count": null,
   "id": "c2a310fc",
   "metadata": {},
   "outputs": [],
   "source": [
    "for name, scores in metrics_Fscore.items():\n",
    "    print(f'{name : <40} \\t {np.mean(scores):.2f} +/- {np.std(scores):.2f}')"
   ]
  },
  {
   "cell_type": "code",
   "execution_count": null,
   "id": "6c88ec88",
   "metadata": {},
   "outputs": [],
   "source": [
    "from sklearn.feature_selection import mutual_info_classif\n",
    "features = defaultdict(int)\n",
    "k=10\n",
    "kfold = RepeatedStratifiedKFold(n_splits=3, n_repeats=100, random_state=seed)\n",
    "metrics_mi = defaultdict(list)\n",
    "preds_mi = defaultdict(lambda: defaultdict(list))\n",
    "for i, (train_index, test_index) in tqdm.tqdm(enumerate(kfold.split(X, y)), total=(kfold.get_n_splits(X, y))):\n",
    "    x_train, x_test, y_train, y_test = X.values[train_index], X.values[test_index], y.values[train_index], y.values[test_index]\n",
    "    s = SelectKBest(mutual_info_classif, k=k)\n",
    "    x_train_reduced = s.fit_transform(x_train, y_train)\n",
    "    x_test_reduced = s.transform(x_test)\n",
    "    ft = X.columns[np.flip(s.scores_.argsort())[:k]]\n",
    "    for f in ft:\n",
    "        features[f] += 1\n",
    "    for name, model in models.items():\n",
    "        model.fit(x_train_reduced, y_train)\n",
    "        y_pred_pb = model.predict_proba(x_test_reduced)\n",
    "        pred_max, pred_argmax = y_pred_pb.max(1), y_pred_pb.argmax(1)\n",
    "        y_pred = np.where(pred_argmax == 1, pred_max, 1 - pred_max)\n",
    "        for i, idx in enumerate(test_index):\n",
    "            preds_mi[f'{name}'][idx].append(y_pred[i])\n",
    "        metrics_mi[f'{name}/recall'].append(recall_score(y_test, [round(y) for y in y_pred]))\n",
    "        metrics_mi[f'{name}/precision'].append(precision_score(y_test, [round(y) for y in y_pred]))\n",
    "        metrics_mi[f'{name}/f1'].append(f1_score(y_test, [round(y) for y in y_pred]))\n",
    "        metrics_mi[f'{name}/auc'].append(roc_auc_score(y_test, y_pred))\n",
    "        metrics_mi[f'{name}/accuracy'].append(accuracy_score(y_test, [round(y) for y in y_pred]))\n",
    "        metrics_mi[f'{name}/balanced_accuracy'].append(balanced_accuracy_score(y_test, [round(y) for y in y_pred]))"
   ]
  },
  {
   "cell_type": "code",
   "execution_count": null,
   "id": "7ffcc32a",
   "metadata": {},
   "outputs": [],
   "source": [
    "for name, scores in metrics_mi.items():\n",
    "    print(f'{name : <40} \\t {np.mean(scores):.2f} +/- {np.std(scores):.2f}')"
   ]
  },
  {
   "cell_type": "code",
   "execution_count": null,
   "id": "09a4b73d",
   "metadata": {},
   "outputs": [],
   "source": [
    "from sklearn.feature_selection import RFE\n",
    "features = defaultdict(int)\n",
    "k=10\n",
    "kfold = RepeatedStratifiedKFold(n_splits=3, n_repeats=100, random_state=seed)\n",
    "metrics_rfe = defaultdict(list)\n",
    "preds_rfe = defaultdict(lambda: defaultdict(list))\n",
    "for i, (train_index, test_index) in tqdm.tqdm(enumerate(kfold.split(X, y)), total=(kfold.get_n_splits(X, y))):\n",
    "    x_train, x_test, y_train, y_test = X.values[train_index], X.values[test_index], y.values[train_index], y.values[test_index]\n",
    "    for (name, model), fi in zip(models.items(), ['auto', 'auto', 'named_steps.svc.coef_', 'named_steps.logisticregression.coef_']):\n",
    "        selector = RFE(model, n_features_to_select=k, importance_getter=fi, step=5)\n",
    "        selector.fit(x_train, y_train)\n",
    "        y_pred_pb = selector.predict_proba(x_test)\n",
    "        pred_max, pred_argmax = y_pred_pb.max(1), y_pred_pb.argmax(1)\n",
    "        y_pred = np.where(pred_argmax == 1, pred_max, 1 - pred_max)\n",
    "        for i, idx in enumerate(test_index):\n",
    "            preds_rfe[f'{name}'][idx].append(y_pred[i])\n",
    "        metrics_rfe[f'{name}/recall'].append(recall_score(y_test, [round(y) for y in y_pred]))\n",
    "        metrics_rfe[f'{name}/precision'].append(precision_score(y_test, [round(y) for y in y_pred]))\n",
    "        metrics_rfe[f'{name}/f1'].append(f1_score(y_test, [round(y) for y in y_pred]))\n",
    "        metrics_rfe[f'{name}/auc'].append(roc_auc_score(y_test, y_pred))\n",
    "        metrics_rfe[f'{name}/accuracy'].append(accuracy_score(y_test, [round(y) for y in y_pred]))\n",
    "        metrics_rfe[f'{name}/balanced_accuracy'].append(balanced_accuracy_score(y_test, [round(y) for y in y_pred]))"
   ]
  },
  {
   "cell_type": "code",
   "execution_count": null,
   "id": "ca96b998",
   "metadata": {},
   "outputs": [],
   "source": [
    "for name, scores in metrics_rfe.items():\n",
    "    print(f'{name : <40} \\t {np.mean(scores):.2f} +/- {np.std(scores):.2f}')"
   ]
  }
 ],
 "metadata": {
  "kernelspec": {
   "display_name": "Python 3 (ipykernel)",
   "language": "python",
   "name": "python3"
  },
  "language_info": {
   "codemirror_mode": {
    "name": "ipython",
    "version": 3
   },
   "file_extension": ".py",
   "mimetype": "text/x-python",
   "name": "python",
   "nbconvert_exporter": "python",
   "pygments_lexer": "ipython3",
   "version": "3.10.10"
  }
 },
 "nbformat": 4,
 "nbformat_minor": 5
}
