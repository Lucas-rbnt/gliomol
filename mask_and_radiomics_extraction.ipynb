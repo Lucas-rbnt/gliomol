{
 "cells": [
  {
   "cell_type": "code",
   "execution_count": null,
   "metadata": {},
   "outputs": [],
   "source": [
    "# Useful imports\n",
    "import os\n",
    "import matplotlib.animation\n",
    "import os\n",
    "import matplotlib.animation as animation\n",
    "import matplotlib.pyplot as plt\n",
    "from IPython.display import HTML\n",
    "from einops import rearrange\n",
    "import tqdm\n",
    "import pandas as pd\n",
    "import torch\n",
    "from monai.networks.nets import UNet\n",
    "from monai.transforms import SpatialPad, Compose, SpatialPad, Activations, AsDiscrete, LoadImaged, EnsureChannelFirstd, ResizeWithPadOrCropd, SpatialPadd, CenterSpatialCropd, Orientationd, Spacingd, RandRotated, RandSpatialCropd, CropForegroundd, NormalizeIntensityd, RandCoarseDropoutd, SpatialPadd, ToTensord\n",
    "import numpy as np\n",
    "from typing import Tuple\n",
    "#from monai.visualize.utils import matshow3d\n",
    "import nibabel as nib"
   ]
  },
  {
   "cell_type": "code",
   "execution_count": null,
   "metadata": {},
   "outputs": [],
   "source": [
    "# variable and helper functions\n",
    "base_path = 'brats_processed/'\n",
    "threshold = 0.9\n",
    "\n",
    "def _compute_centroid(mask: np.ndarray) -> np.ndarray:\n",
    "    return np.mean(np.argwhere(mask), axis=0).astype(int)\n",
    "\n",
    "def _get_bounds(centroid: np.ndarray, sizes: Tuple[int, ...], input_dims: Tuple[int, ...]) -> Tuple[np.ndarray, np.ndarray]:\n",
    "    lower = (centroid - (np.array(sizes) / 2)).astype(int)\n",
    "    upper = (centroid + (np.array(sizes) / 2)).astype(int)\n",
    "    return np.clip(lower, 0, input_dims), np.clip(upper, 0, input_dims)"
   ]
  },
  {
   "cell_type": "code",
   "execution_count": null,
   "metadata": {},
   "outputs": [],
   "source": [
    "model = UNet(spatial_dims=3, in_channels=1, out_channels=3, channels=(16, 32, 64, 128, 256, 512), strides=(2, 2, 2, 2, 2), num_res_units=2)\n",
    "device = torch.device(\"cuda\" if torch.cuda.is_available() else \"cpu\")\n",
    "model = model.to(device)\n",
    "state_dict = torch.load(\"pretrained_encoders/segmenter.pth\", map_location=device)\n",
    "\n",
    "from collections import OrderedDict\n",
    "new_state_dict = OrderedDict()\n",
    "for k, v in state_dict.items():\n",
    "    name = k[7:] # remove `module.`\n",
    "    new_state_dict[name] = v\n",
    "\n",
    "del state_dict\n",
    "\n",
    "model.load_state_dict(new_state_dict, strict=True)\n",
    "model.eval()"
   ]
  },
  {
   "cell_type": "code",
   "execution_count": null,
   "metadata": {},
   "outputs": [],
   "source": [
    "# transforms...\n",
    "transforms = Compose([\n",
    "    LoadImaged(keys='image', image_only=True),\n",
    "    EnsureChannelFirstd(keys='image'),\n",
    "    Orientationd(keys='image', axcodes=\"RAS\"),\n",
    "    CenterSpatialCropd(keys='image', roi_size=(160, 160, 128)),\n",
    "    NormalizeIntensityd(keys='image', nonzero=True, channel_wise=True),\n",
    "    ToTensord(keys='image')\n",
    "])\n",
    "\n",
    "padder = SpatialPad(spatial_size=(64, 64, 64))"
   ]
  },
  {
   "cell_type": "markdown",
   "metadata": {},
   "source": [
    "# Get segmentation.nii.gz and tumor_centered.pt"
   ]
  },
  {
   "cell_type": "code",
   "execution_count": null,
   "metadata": {},
   "outputs": [],
   "source": [
    "def find_blobs(mask):\n",
    "    indices = np.argwhere(mask == 1)\n",
    "    objects = []\n",
    "    while indices.size > 0:\n",
    "        obj_indices = [indices[0]]\n",
    "        indices = np.delete(indices, 0, axis=0)\n",
    "\n",
    "        i = 0\n",
    "        while i < len(obj_indices):\n",
    "            current_index = obj_indices[i]\n",
    "            neighbors = np.argwhere(np.all(np.abs(indices - current_index) <= 1, axis=1))\n",
    "            obj_indices.extend(indices[neighbors].reshape(-1, 3))\n",
    "            indices = np.delete(indices, neighbors, axis=0)\n",
    "            i += 1\n",
    "        objects.append(obj_indices)\n",
    "        \n",
    "    return objects"
   ]
  },
  {
   "cell_type": "code",
   "execution_count": null,
   "metadata": {
    "scrolled": true
   },
   "outputs": [],
   "source": [
    "%%time\n",
    "post_trans = Compose([Activations(sigmoid=True), AsDiscrete(threshold=threshold)])\n",
    "for label in tqdm.tqdm(os.listdir(base_path)):\n",
    "    patients = os.listdir(os.path.join(base_path, label))\n",
    "    for patient in tqdm.tqdm(patients):\n",
    "        print(patient)\n",
    "        filepath = os.path.join(base_path, label, patient, 'hdbet_brats-space', f\"{patient}_hdbet_brats_fla.nii.gz\")\n",
    "        item = {'image': filepath}\n",
    "        item = transforms(item)\n",
    "        output = model(item[\"image\"].to(device).unsqueeze(0)).squeeze(0)\n",
    "        output = post_trans(output).sum(0)\n",
    "        mask = torch.where(output > 0, 1, 0).cpu().numpy()\n",
    "        detections = find_blobs(mask)\n",
    "        tumor = np.stack(detections[np.array([len(detection) for detection in detections]).argmax()])\n",
    "            \n",
    "        centered_mask = np.zeros(mask.shape)\n",
    "        for indexes in tumor:\n",
    "            centered_mask[indexes[0], indexes[1], indexes[2]] = 1\n",
    "\n",
    "        plt.figure(figsize=(40,40))\n",
    "        img = item['image'].squeeze().numpy()\n",
    "        img = (img - img.min())/(img.max() - img.min())\n",
    "        img = np.concatenate([img, centered_mask], 1)\n",
    "        for i in range(0, img.shape[2]-1, 2):\n",
    "            plt.subplot(8, 8, int(i/2)+1)\n",
    "            plt.imshow(img[:, :, i]/img[:,:,i].max())\n",
    "            plt.axis('off')\n",
    "        plt.show()\n",
    "       \n",
    "        mask = torch.zeros(240, 240, 155)\n",
    "        mask[40:-40, 40:-40, 14:-13] = torch.from_numpy(centered_mask)\n",
    "        nifti_mask = nib.Nifti1Image(mask.cpu().numpy().astype(np.uint8), affine=nib.load(filepath).affine, header=nib.load(filepath).header)\n",
    "        nib.save(nifti_mask, os.path.join(base_path, label, patient, \"hdbet_brats-space\", f'{patient}_hdbet_brats_seg.nii.gz'))\n",
    "        m = nib.load(os.path.join(base_path, label, patient, \"hdbet_brats-space\", f'{patient}_hdbet_brats_seg.nii.gz')).get_fdata()\n",
    "        print(m.shape)\n",
    "        print(os.path.join(base_path, label, patient, \"hdbet_brats-space\", f'{patient}_hdbet_brats_seg.nii.gz'))\n",
    "        m = m[40:-40, 40:-40, 14:-13]\n",
    "        plt.figure(figsize=(40,40))\n",
    "        for i in range(0, m.shape[2]-1, 2):\n",
    "            plt.subplot(8, 8, int(i/2)+1)\n",
    "            plt.imshow(m[:, :, i]/m[:,:,i].max())\n",
    "            plt.axis('off')\n",
    "        plt.show()\n",
    "        centroid = _compute_centroid(centered_mask)\n",
    "        lower_bound, upper_bound = _get_bounds(centroid=centroid, sizes=(64, 64, 64), input_dims=item['image'].shape[1:])\n",
    "        img = item['image'][:, lower_bound[0]:upper_bound[0], lower_bound[1]:upper_bound[1], lower_bound[2]:upper_bound[2]]\n",
    "        img = padder(img)\n",
    "        torch.save(img, os.path.join(base_path, label, patient, 'hdbet_brats-space', 'tumor_centered.pt'))\n",
    "        img = img.squeeze().numpy()\n",
    "        plt.figure(figsize=(40,40))\n",
    "        for i in range(1, img.shape[2]):\n",
    "            plt.subplot(8, 8, int(i))\n",
    "            plt.imshow(img[:, :, i])\n",
    "            plt.axis('off')\n",
    "        plt.show()"
   ]
  },
  {
   "cell_type": "markdown",
   "metadata": {},
   "source": [
    "# Extract radiomics with PyRadiomics"
   ]
  },
  {
   "cell_type": "code",
   "execution_count": null,
   "metadata": {},
   "outputs": [],
   "source": [
    "dataframes = []\n",
    "for label in tqdm.tqdm(os.listdir(base_path)):\n",
    "    patients = os.listdir(os.path.join(base_path, label))\n",
    "    for patient in tqdm.tqdm(patients):\n",
    "        os.system(f'rm temp_df.csv')\n",
    "        seg_path = os.path.join(base_path, label, patient, 'hdbet_brats-space', f'{patient}_hdbet_brats_seg.nii.gz')\n",
    "        flair_path = os.path.join(base_path, label, patient, 'hdbet_brats-space', f'{patient}_hdbet_brats_fla.nii.gz')\n",
    "        os.system(f'pyradiomics {flair_path} {seg_path} -o temp_df.csv -f csv')\n",
    "        temp_df = pd.read_csv('temp_df.csv')\n",
    "        temp_df = temp_df[list(temp_df.columns)[24:]]\n",
    "        temp_df['label'] = 1 if label == 'mGB' else 0\n",
    "        temp_df['id'] = patient\n",
    "        dataframes.append(temp_df)"
   ]
  },
  {
   "cell_type": "code",
   "execution_count": null,
   "metadata": {},
   "outputs": [],
   "source": [
    "radiomics = pd.concat(dataframes)\n",
    "radiomics.to_csv('radiomics.csv', index=False)"
   ]
  }
 ],
 "metadata": {
  "kernelspec": {
   "display_name": "Python 3 (ipykernel)",
   "language": "python",
   "name": "python3"
  },
  "language_info": {
   "codemirror_mode": {
    "name": "ipython",
    "version": 3
   },
   "file_extension": ".py",
   "mimetype": "text/x-python",
   "name": "python",
   "nbconvert_exporter": "python",
   "pygments_lexer": "ipython3",
   "version": "3.10.10"
  }
 },
 "nbformat": 4,
 "nbformat_minor": 2
}
